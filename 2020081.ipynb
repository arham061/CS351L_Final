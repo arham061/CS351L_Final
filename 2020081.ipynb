{
 "cells": [
  {
   "cell_type": "code",
   "execution_count": 1,
   "id": "75d2bd62",
   "metadata": {},
   "outputs": [
    {
     "name": "stdout",
     "output_type": "stream",
     "text": [
      "                        Datetime      Tweet Id  \\\n",
      "0      2023-01-22 13:44:34+00:00  1.617156e+18   \n",
      "1      2023-01-22 13:44:39+00:00  1.617156e+18   \n",
      "2      2023-01-22 13:44:44+00:00  1.617156e+18   \n",
      "3      2023-01-22 13:44:49+00:00  1.617156e+18   \n",
      "4      2023-01-22 13:44:52+00:00  1.617156e+18   \n",
      "...                          ...           ...   \n",
      "49996  2023-01-24 06:57:56+00:00  1.617779e+18   \n",
      "49997  2023-01-24 06:57:59+00:00  1.617779e+18   \n",
      "49998  2023-01-24 06:58:00+00:00  1.617779e+18   \n",
      "49999  2023-01-24 06:58:01+00:00  1.617779e+18   \n",
      "50000  2023-01-24 06:58:01+00:00  1.617779e+18   \n",
      "\n",
      "                                                    Text         Username  \\\n",
      "0      ChatGPTã§éŠã¶ã®å¿˜ã‚Œã¦ãŸï¼ï¼\\næ›¸é¡žä...      mochico0123   \n",
      "1      @AlexandrovnaIng Prohibition of ChatGPT has be...  Caput_LupinumSG   \n",
      "2      Schaut Euch an, was @fobizz @DianaKnodel alles...            ciffi   \n",
      "3      Bow down to chatGPT ðŸ«¡..... https://t.co/ENT...    Vishwasrisiri   \n",
      "4      Profilinde vatan, TÃ¼rkiye falan yazan bireyle...   0xGenetikciniz   \n",
      "...                                                  ...              ...   \n",
      "49996  #ChatGPT ist ein #Chatbot, der durch kÃ¼nstlic...     HorstKrieger   \n",
      "49997  @r8r Ich hab mal die AI dazu befragt (ChatGPT)...            werpu   \n",
      "49998  5 minuti di #chatGPT e ho capito che apprende ...   marcopiccinini   \n",
      "49999  Portland Shop Uses ChatGPT To Tell Family Stor...    EuniceNyandat   \n",
      "50000  Ahora sueÃ±o con el dÃ­a en que Amazon integre...     AmericoSD_69   \n",
      "\n",
      "                                               Permalink  \\\n",
      "0      https://twitter.com/mochico0123/status/1617156...   \n",
      "1      https://twitter.com/Caput_LupinumSG/status/161...   \n",
      "2      https://twitter.com/ciffi/status/1617156308926...   \n",
      "3      https://twitter.com/Vishwasrisiri/status/16171...   \n",
      "4      https://twitter.com/0xGenetikciniz/status/1617...   \n",
      "...                                                  ...   \n",
      "49996  https://twitter.com/HorstKrieger/status/161777...   \n",
      "49997  https://twitter.com/werpu/status/1617778726393...   \n",
      "49998  https://twitter.com/marcopiccinini/status/1617...   \n",
      "49999  https://twitter.com/EuniceNyandat/status/16177...   \n",
      "50000  https://twitter.com/AmericoSD_69/status/161777...   \n",
      "\n",
      "                                      User  \\\n",
      "0          https://twitter.com/mochico0123   \n",
      "1      https://twitter.com/Caput_LupinumSG   \n",
      "2                https://twitter.com/ciffi   \n",
      "3        https://twitter.com/Vishwasrisiri   \n",
      "4       https://twitter.com/0xGenetikciniz   \n",
      "...                                    ...   \n",
      "49996     https://twitter.com/HorstKrieger   \n",
      "49997            https://twitter.com/werpu   \n",
      "49998   https://twitter.com/marcopiccinini   \n",
      "49999    https://twitter.com/EuniceNyandat   \n",
      "50000     https://twitter.com/AmericoSD_69   \n",
      "\n",
      "                                                Outlinks  \\\n",
      "0                                                    NaN   \n",
      "1                                                    NaN   \n",
      "2      ['https://us02web.zoom.us/webinar/register/801...   \n",
      "3      ['https://twitter.com/agadmator/status/1617155...   \n",
      "4                                                    NaN   \n",
      "...                                                  ...   \n",
      "49996  ['https://lnkd.in/dzHbz5-z', 'https://lnkd.in/...   \n",
      "49997                                                NaN   \n",
      "49998                                                NaN   \n",
      "49999                     ['https://drumup.io/s/DkswB6']   \n",
      "50000                                                NaN   \n",
      "\n",
      "                                              CountLinks  ReplyCount  \\\n",
      "0                                                    NaN           1   \n",
      "1                                                    NaN           1   \n",
      "2      ['https://t.co/DsoeVJrPBp', 'https://t.co/HflT...           0   \n",
      "3                            ['https://t.co/ENTSzi2AQ9']           0   \n",
      "4                                                    NaN           0   \n",
      "...                                                  ...         ...   \n",
      "49996  ['https://t.co/qxUJZinuNO', 'https://t.co/lFZD...           0   \n",
      "49997                                                NaN           0   \n",
      "49998                                                NaN           0   \n",
      "49999                        ['https://t.co/rzGvr6yTOc']           0   \n",
      "50000                                                NaN           0   \n",
      "\n",
      "       RetweetCount  LikeCount  QuoteCount  ConversationId Language  \\\n",
      "0                 0          5           0    1.617156e+18       ja   \n",
      "1                 0          5           0    1.617149e+18       en   \n",
      "2                 0          4           0    1.617156e+18       de   \n",
      "3                 0          2           0    1.617156e+18       en   \n",
      "4                 0          4           0    1.617156e+18       tr   \n",
      "...             ...        ...         ...             ...      ...   \n",
      "49996             0          0           0    1.617779e+18       de   \n",
      "49997             0          0           0    1.617775e+18       de   \n",
      "49998             0          0           0    1.617779e+18       it   \n",
      "49999             0          0           0    1.617779e+18       en   \n",
      "50000             0          0           0    1.617779e+18       es   \n",
      "\n",
      "                                                  Source  \\\n",
      "0      <a href=\"http://twitter.com/download/iphone\" r...   \n",
      "1      <a href=\"http://twitter.com/download/iphone\" r...   \n",
      "2      <a href=\"http://twitter.com/#!/download/ipad\" ...   \n",
      "3      <a href=\"http://twitter.com/download/android\" ...   \n",
      "4      <a href=\"http://twitter.com/download/iphone\" r...   \n",
      "...                                                  ...   \n",
      "49996  <a href=\"http://www.linkedin.com/\" rel=\"nofoll...   \n",
      "49997  <a href=\"https://mobile.twitter.com\" rel=\"nofo...   \n",
      "49998  <a href=\"http://twitter.com/download/iphone\" r...   \n",
      "49999  <a href=\"https://drumup.io\" rel=\"nofollow\">dru...   \n",
      "50000  <a href=\"http://twitter.com/download/android\" ...   \n",
      "\n",
      "                                                   Media  \\\n",
      "0                                                    NaN   \n",
      "1                                                    NaN   \n",
      "2      [Photo(previewUrl='https://pbs.twimg.com/media...   \n",
      "3                                                    NaN   \n",
      "4                                                    NaN   \n",
      "...                                                  ...   \n",
      "49996                                                NaN   \n",
      "49997  [Photo(previewUrl='https://pbs.twimg.com/media...   \n",
      "49998  [Photo(previewUrl='https://pbs.twimg.com/media...   \n",
      "49999                                                NaN   \n",
      "50000                                                NaN   \n",
      "\n",
      "                                             QuotedTweet  \\\n",
      "0                                                    NaN   \n",
      "1                                                    NaN   \n",
      "2      https://twitter.com/DianaKnodel/status/1617153...   \n",
      "3      https://twitter.com/agadmator/status/161715501...   \n",
      "4                                                    NaN   \n",
      "...                                                  ...   \n",
      "49996                                                NaN   \n",
      "49997                                                NaN   \n",
      "49998                                                NaN   \n",
      "49999                                                NaN   \n",
      "50000                                                NaN   \n",
      "\n",
      "                                          MentionedUsers  \\\n",
      "0                                                    NaN   \n",
      "1      [User(username='AlexandrovnaIng', id=282705900...   \n",
      "2      [User(username='fobizz', id=884708145792253952...   \n",
      "3                                                    NaN   \n",
      "4                                                    NaN   \n",
      "...                                                  ...   \n",
      "49996                                                NaN   \n",
      "49997  [User(username='r8r', id=15451529, displayname...   \n",
      "49998                                                NaN   \n",
      "49999                                                NaN   \n",
      "50000                                                NaN   \n",
      "\n",
      "                                                 hashtag  hastag_counts  \n",
      "0                                                     []              0  \n",
      "1                                                     []              0  \n",
      "2                                           ['#ChatGPT']              1  \n",
      "3                                                     []              0  \n",
      "4                                                     []              0  \n",
      "...                                                  ...            ...  \n",
      "49996  ['#ChatGPT', '#Chatbot,', '#KI', '#AI', '#Dial...              6  \n",
      "49997                                                 []              0  \n",
      "49998                                       ['#chatGPT']              1  \n",
      "49999                                                 []              0  \n",
      "50000                                                 []              0  \n",
      "\n",
      "[50001 rows x 20 columns]\n"
     ]
    }
   ],
   "source": [
    "import pandas as pd\n",
    "\n",
    "df = pd.read_excel(r'Downloads\\chatgpt1.xlsx')\n",
    "print(df)"
   ]
  },
  {
   "cell_type": "code",
   "execution_count": 10,
   "id": "60d5b520",
   "metadata": {},
   "outputs": [],
   "source": [
    "#Creating a function that takes care of all the preprocessing stuff.\n",
    "def preprocess():\n",
    "\n",
    "  df['Text'] = df['Text'].str.lower() # Ensuring all words in the Tweet column of training data are lowercased\n",
    "\n",
    "  # Parsing the stop_words.txt file and storing all the words in a list.\n",
    "  stopwords = []\n",
    "  with open('Downloads/sample.txt','r') as file:    \n",
    "      for line in file:         \n",
    "          for word in line.split():            \n",
    "              stopwords.append(word)\n",
    "\n",
    "  # Removing all stopwords from all the tweets in training data.\n",
    "  #df[\"Text\"] = df[\"Text\"].apply(lambda func: ' '.join(sw \n",
    "   #                                         for sw in func.split() \n",
    "    #                                        if sw not in stopwords))\n",
    "  #Training Data\n",
    "  df['Text'] = df['Text'].str.replace(r'http?://[^\\s<>\"]+|www\\.[^\\s<>\"]+', '') # Removing hyperlinks from all the tweets\n",
    "  df['Text'] = df['Text'].str.replace('@[A-Za-z0-9]+', '') # Removing usernames from all the tweets.\n",
    "  df['Text'] = df['Text'].str.replace(r'\\B#\\w*[a-zA-Z]+\\w*', '') # Removing hashtags, including the text, from all the tweets\n",
    "  df['Text'] = df['Text'].str.replace('\\d+', '') # Removing numbers from all the tweets\n",
    "\n",
    "  special_chars = [\"!\",'\"',\"%\",\"&\",\"amp\",\"'\",\"(\",\")\", \"*\",\"+\",\",\",\"-\",\".\",\n",
    "                  \"/\",\":\",\";\",\"<\",\"=\",\">\",\"?\",\"[\",\"\\\\\",\"]\",\"^\",\"_\",\n",
    "                  \"`\",\"{\",\"|\",\"}\",\"~\",\"–\",\"@\",\"#\",\"$\"]\n",
    "\n",
    "  for c in special_chars:\n",
    "      df['Text'] = df['Text'].str.replace(c,'') # Removing all special characters from all the tweets"
   ]
  },
  {
   "cell_type": "code",
   "execution_count": 12,
   "id": "ae9b55ce",
   "metadata": {},
   "outputs": [
    {
     "name": "stderr",
     "output_type": "stream",
     "text": [
      "C:\\Users\\Arham\\AppData\\Local\\Temp\\ipykernel_22544\\3785458668.py:18: FutureWarning: The default value of regex will change from True to False in a future version.\n",
      "  df['Text'] = df['Text'].str.replace(r'http?://[^\\s<>\"]+|www\\.[^\\s<>\"]+', '') # Removing hyperlinks from all the tweets\n",
      "C:\\Users\\Arham\\AppData\\Local\\Temp\\ipykernel_22544\\3785458668.py:19: FutureWarning: The default value of regex will change from True to False in a future version.\n",
      "  df['Text'] = df['Text'].str.replace('@[A-Za-z0-9]+', '') # Removing usernames from all the tweets.\n",
      "C:\\Users\\Arham\\AppData\\Local\\Temp\\ipykernel_22544\\3785458668.py:20: FutureWarning: The default value of regex will change from True to False in a future version.\n",
      "  df['Text'] = df['Text'].str.replace(r'\\B#\\w*[a-zA-Z]+\\w*', '') # Removing hashtags, including the text, from all the tweets\n",
      "C:\\Users\\Arham\\AppData\\Local\\Temp\\ipykernel_22544\\3785458668.py:21: FutureWarning: The default value of regex will change from True to False in a future version.\n",
      "  df['Text'] = df['Text'].str.replace('\\d+', '') # Removing numbers from all the tweets\n",
      "C:\\Users\\Arham\\AppData\\Local\\Temp\\ipykernel_22544\\3785458668.py:28: FutureWarning: The default value of regex will change from True to False in a future version. In addition, single character regular expressions will *not* be treated as literal strings when regex=True.\n",
      "  df['Text'] = df['Text'].str.replace(c,'') # Removing all special characters from all the tweets\n"
     ]
    }
   ],
   "source": [
    "preprocess()"
   ]
  },
  {
   "cell_type": "code",
   "execution_count": 13,
   "id": "724a0acb",
   "metadata": {},
   "outputs": [
    {
     "name": "stdout",
     "output_type": "stream",
     "text": [
      "                        Datetime      Tweet Id  \\\n",
      "0      2023-01-22 13:44:34+00:00  1.617156e+18   \n",
      "1      2023-01-22 13:44:39+00:00  1.617156e+18   \n",
      "2      2023-01-22 13:44:44+00:00  1.617156e+18   \n",
      "3      2023-01-22 13:44:49+00:00  1.617156e+18   \n",
      "4      2023-01-22 13:44:52+00:00  1.617156e+18   \n",
      "...                          ...           ...   \n",
      "49996  2023-01-24 06:57:56+00:00  1.617779e+18   \n",
      "49997  2023-01-24 06:57:59+00:00  1.617779e+18   \n",
      "49998  2023-01-24 06:58:00+00:00  1.617779e+18   \n",
      "49999  2023-01-24 06:58:01+00:00  1.617779e+18   \n",
      "50000  2023-01-24 06:58:01+00:00  1.617779e+18   \n",
      "\n",
      "                                                    Text         Username  \\\n",
      "0      chatgptã§éšã¶ã®å¿˜ã‚œã¦ãÿï¼ï¼\\næ›¸é¡žä...      mochico0123   \n",
      "1       prohibition of chatgpt has been added to the ...  Caput_LupinumSG   \n",
      "2      schaut euch an was   alles â¬‡ï¸ auf die pist...            ciffi   \n",
      "3              bow down to chatgpt ðÿ«¡ httpstcoentsziaq    Vishwasrisiri   \n",
      "4      profilinde vatan tã¼rkiye falan yazan bireyler...   0xGenetikciniz   \n",
      "...                                                  ...              ...   \n",
      "49996   ist ein  der durch kã¼nstliche intelligenz   ...     HorstKrieger   \n",
      "49997   ich hab mal die ai dazu befragt chatgpt https...            werpu   \n",
      "49998   minuti di  e ho capito che apprende in manier...   marcopiccinini   \n",
      "49999  portland shop uses chatgpt to tell family stor...    EuniceNyandat   \n",
      "50000  ahora sueã±o con el dã­a en que amazon integre...     AmericoSD_69   \n",
      "\n",
      "                                               Permalink  \\\n",
      "0      https://twitter.com/mochico0123/status/1617156...   \n",
      "1      https://twitter.com/Caput_LupinumSG/status/161...   \n",
      "2      https://twitter.com/ciffi/status/1617156308926...   \n",
      "3      https://twitter.com/Vishwasrisiri/status/16171...   \n",
      "4      https://twitter.com/0xGenetikciniz/status/1617...   \n",
      "...                                                  ...   \n",
      "49996  https://twitter.com/HorstKrieger/status/161777...   \n",
      "49997  https://twitter.com/werpu/status/1617778726393...   \n",
      "49998  https://twitter.com/marcopiccinini/status/1617...   \n",
      "49999  https://twitter.com/EuniceNyandat/status/16177...   \n",
      "50000  https://twitter.com/AmericoSD_69/status/161777...   \n",
      "\n",
      "                                      User  \\\n",
      "0          https://twitter.com/mochico0123   \n",
      "1      https://twitter.com/Caput_LupinumSG   \n",
      "2                https://twitter.com/ciffi   \n",
      "3        https://twitter.com/Vishwasrisiri   \n",
      "4       https://twitter.com/0xGenetikciniz   \n",
      "...                                    ...   \n",
      "49996     https://twitter.com/HorstKrieger   \n",
      "49997            https://twitter.com/werpu   \n",
      "49998   https://twitter.com/marcopiccinini   \n",
      "49999    https://twitter.com/EuniceNyandat   \n",
      "50000     https://twitter.com/AmericoSD_69   \n",
      "\n",
      "                                                Outlinks  \\\n",
      "0                                                    NaN   \n",
      "1                                                    NaN   \n",
      "2      ['https://us02web.zoom.us/webinar/register/801...   \n",
      "3      ['https://twitter.com/agadmator/status/1617155...   \n",
      "4                                                    NaN   \n",
      "...                                                  ...   \n",
      "49996  ['https://lnkd.in/dzHbz5-z', 'https://lnkd.in/...   \n",
      "49997                                                NaN   \n",
      "49998                                                NaN   \n",
      "49999                     ['https://drumup.io/s/DkswB6']   \n",
      "50000                                                NaN   \n",
      "\n",
      "                                              CountLinks  ReplyCount  \\\n",
      "0                                                    NaN           1   \n",
      "1                                                    NaN           1   \n",
      "2      ['https://t.co/DsoeVJrPBp', 'https://t.co/HflT...           0   \n",
      "3                            ['https://t.co/ENTSzi2AQ9']           0   \n",
      "4                                                    NaN           0   \n",
      "...                                                  ...         ...   \n",
      "49996  ['https://t.co/qxUJZinuNO', 'https://t.co/lFZD...           0   \n",
      "49997                                                NaN           0   \n",
      "49998                                                NaN           0   \n",
      "49999                        ['https://t.co/rzGvr6yTOc']           0   \n",
      "50000                                                NaN           0   \n",
      "\n",
      "       RetweetCount  LikeCount  QuoteCount  ConversationId Language  \\\n",
      "0                 0          5           0    1.617156e+18       ja   \n",
      "1                 0          5           0    1.617149e+18       en   \n",
      "2                 0          4           0    1.617156e+18       de   \n",
      "3                 0          2           0    1.617156e+18       en   \n",
      "4                 0          4           0    1.617156e+18       tr   \n",
      "...             ...        ...         ...             ...      ...   \n",
      "49996             0          0           0    1.617779e+18       de   \n",
      "49997             0          0           0    1.617775e+18       de   \n",
      "49998             0          0           0    1.617779e+18       it   \n",
      "49999             0          0           0    1.617779e+18       en   \n",
      "50000             0          0           0    1.617779e+18       es   \n",
      "\n",
      "                                                  Source  \\\n",
      "0      <a href=\"http://twitter.com/download/iphone\" r...   \n",
      "1      <a href=\"http://twitter.com/download/iphone\" r...   \n",
      "2      <a href=\"http://twitter.com/#!/download/ipad\" ...   \n",
      "3      <a href=\"http://twitter.com/download/android\" ...   \n",
      "4      <a href=\"http://twitter.com/download/iphone\" r...   \n",
      "...                                                  ...   \n",
      "49996  <a href=\"http://www.linkedin.com/\" rel=\"nofoll...   \n",
      "49997  <a href=\"https://mobile.twitter.com\" rel=\"nofo...   \n",
      "49998  <a href=\"http://twitter.com/download/iphone\" r...   \n",
      "49999  <a href=\"https://drumup.io\" rel=\"nofollow\">dru...   \n",
      "50000  <a href=\"http://twitter.com/download/android\" ...   \n",
      "\n",
      "                                                   Media  \\\n",
      "0                                                    NaN   \n",
      "1                                                    NaN   \n",
      "2      [Photo(previewUrl='https://pbs.twimg.com/media...   \n",
      "3                                                    NaN   \n",
      "4                                                    NaN   \n",
      "...                                                  ...   \n",
      "49996                                                NaN   \n",
      "49997  [Photo(previewUrl='https://pbs.twimg.com/media...   \n",
      "49998  [Photo(previewUrl='https://pbs.twimg.com/media...   \n",
      "49999                                                NaN   \n",
      "50000                                                NaN   \n",
      "\n",
      "                                             QuotedTweet  \\\n",
      "0                                                    NaN   \n",
      "1                                                    NaN   \n",
      "2      https://twitter.com/DianaKnodel/status/1617153...   \n",
      "3      https://twitter.com/agadmator/status/161715501...   \n",
      "4                                                    NaN   \n",
      "...                                                  ...   \n",
      "49996                                                NaN   \n",
      "49997                                                NaN   \n",
      "49998                                                NaN   \n",
      "49999                                                NaN   \n",
      "50000                                                NaN   \n",
      "\n",
      "                                          MentionedUsers  \\\n",
      "0                                                    NaN   \n",
      "1      [User(username='AlexandrovnaIng', id=282705900...   \n",
      "2      [User(username='fobizz', id=884708145792253952...   \n",
      "3                                                    NaN   \n",
      "4                                                    NaN   \n",
      "...                                                  ...   \n",
      "49996                                                NaN   \n",
      "49997  [User(username='r8r', id=15451529, displayname...   \n",
      "49998                                                NaN   \n",
      "49999                                                NaN   \n",
      "50000                                                NaN   \n",
      "\n",
      "                                                 hashtag  hastag_counts  \n",
      "0                                                     []              0  \n",
      "1                                                     []              0  \n",
      "2                                           ['#ChatGPT']              1  \n",
      "3                                                     []              0  \n",
      "4                                                     []              0  \n",
      "...                                                  ...            ...  \n",
      "49996  ['#ChatGPT', '#Chatbot,', '#KI', '#AI', '#Dial...              6  \n",
      "49997                                                 []              0  \n",
      "49998                                       ['#chatGPT']              1  \n",
      "49999                                                 []              0  \n",
      "50000                                                 []              0  \n",
      "\n",
      "[50001 rows x 20 columns]\n"
     ]
    }
   ],
   "source": [
    "print(df)"
   ]
  },
  {
   "cell_type": "code",
   "execution_count": null,
   "id": "af83508b",
   "metadata": {},
   "outputs": [],
   "source": []
  },
  {
   "cell_type": "code",
   "execution_count": null,
   "id": "7765fd1e",
   "metadata": {},
   "outputs": [],
   "source": []
  },
  {
   "cell_type": "code",
   "execution_count": 36,
   "id": "368ead0f",
   "metadata": {},
   "outputs": [
    {
     "data": {
      "text/plain": [
       "(0        ja\n",
       " 1        en\n",
       " 2        de\n",
       " 3        en\n",
       " 4        tr\n",
       "          ..\n",
       " 49996    de\n",
       " 49997    de\n",
       " 49998    it\n",
       " 49999    en\n",
       " 50000    es\n",
       " Name: Language, Length: 50001, dtype: object,\n",
       " 0        chatgptã§éšã¶ã®å¿˜ã‚œã¦ãÿï¼ï¼\\næ›¸é¡žä...\n",
       " 1         prohibition of chatgpt has been added to the ...\n",
       " 2        schaut euch an was   alles â¬‡ï¸ auf die pist...\n",
       " 3                bow down to chatgpt ðÿ«¡ httpstcoentsziaq\n",
       " 4        profilinde vatan tã¼rkiye falan yazan bireyler...\n",
       "                                ...                        \n",
       " 49996     ist ein  der durch kã¼nstliche intelligenz   ...\n",
       " 49997     ich hab mal die ai dazu befragt chatgpt https...\n",
       " 49998     minuti di  e ho capito che apprende in manier...\n",
       " 49999    portland shop uses chatgpt to tell family stor...\n",
       " 50000    ahora sueã±o con el dã­a en que amazon integre...\n",
       " Name: Text, Length: 50001, dtype: object)"
      ]
     },
     "execution_count": 36,
     "metadata": {},
     "output_type": "execute_result"
    }
   ],
   "source": [
    "#Feature and Label selection\n",
    "\n",
    "y_col = 'Language'\n",
    "y = df[y_col]\n",
    "\n",
    "x_col = 'Text'\n",
    "x = df[x_col]\n",
    "y, x"
   ]
  },
  {
   "cell_type": "code",
   "execution_count": 37,
   "id": "bd100288",
   "metadata": {},
   "outputs": [
    {
     "name": "stdout",
     "output_type": "stream",
     "text": [
      "No. of training examples: 40001\n",
      "No. of testing examples: 10000\n"
     ]
    }
   ],
   "source": [
    "#Splitting into training and testing\n",
    "\n",
    "training_data_x = x.sample(frac=0.8, random_state=25)\n",
    "testing_data_x = x.drop(training_data_x.index)\n",
    "\n",
    "training_data_y = y.sample(frac=0.8, random_state=25)\n",
    "testing_data_y = y.drop(training_data_y.index)\n",
    "\n",
    "print(f\"No. of training examples: {training_data_x.shape[0]}\")\n",
    "print(f\"No. of testing examples: {testing_data_x.shape[0]}\")"
   ]
  },
  {
   "cell_type": "code",
   "execution_count": 49,
   "id": "a6196537",
   "metadata": {},
   "outputs": [],
   "source": [
    "from sklearn.feature_extraction.text import TfidfVectorizer\n",
    "tfidf = TfidfVectorizer()\n",
    "\n",
    "# Assuming training_data_x is a pandas Series or DataFrame column containing the text data\n",
    "\n",
    "training_data_x = training_data_x.fillna('')\n",
    "testing_data_x = testing_data_x.fillna('')\n",
    "training_data_y = training_data_y.fillna('')\n",
    "testing_data_y = testing_data_y.fillna('')\n",
    "\n",
    "#Vectorization\n",
    "X_train_tfidf = tfidf.fit_transform(training_data_x)\n",
    "X_test_tfidf = tfidf.transform(testing_data_x)\n"
   ]
  },
  {
   "cell_type": "code",
   "execution_count": 50,
   "id": "e85be226",
   "metadata": {},
   "outputs": [],
   "source": [
    "from sklearn.neighbors import KNeighborsClassifier\n",
    "from sklearn.metrics import accuracy_score\n"
   ]
  },
  {
   "cell_type": "code",
   "execution_count": 55,
   "id": "da9ccaeb",
   "metadata": {},
   "outputs": [],
   "source": [
    "knn = KNeighborsClassifier(n_neighbors=3)  # You can adjust the value of n_neighbors as per your requirements\n",
    "knn.fit(X_train_tfidf, training_data_y)\n",
    "y_pred = knn.predict(X_test_tfidf)\n",
    "\n",
    "# Evaluate the accuracy of the model\n",
    "accuracy = accuracy_score(testing_data_y, y_pred)\n"
   ]
  },
  {
   "cell_type": "code",
   "execution_count": 56,
   "id": "0b304f84",
   "metadata": {},
   "outputs": [
    {
     "data": {
      "text/plain": [
       "0.285"
      ]
     },
     "execution_count": 56,
     "metadata": {},
     "output_type": "execute_result"
    }
   ],
   "source": [
    "accuracy"
   ]
  },
  {
   "cell_type": "code",
   "execution_count": 59,
   "id": "8101d357",
   "metadata": {},
   "outputs": [
    {
     "name": "stdout",
     "output_type": "stream",
     "text": [
      "For KNN Model:\n",
      "Precision:  0.4905810487211447\n",
      "Recall:  0.2731221677235438\n",
      "F1-score:  0.27523240794016923\n",
      "Accuracy:  0.285\n"
     ]
    },
    {
     "name": "stderr",
     "output_type": "stream",
     "text": [
      "C:\\Users\\Arham\\anaconda3\\lib\\site-packages\\sklearn\\metrics\\_classification.py:1318: UndefinedMetricWarning: Precision is ill-defined and being set to 0.0 in labels with no predicted samples. Use `zero_division` parameter to control this behavior.\n",
      "  _warn_prf(average, modifier, msg_start, len(result))\n",
      "C:\\Users\\Arham\\anaconda3\\lib\\site-packages\\sklearn\\metrics\\_classification.py:1318: UndefinedMetricWarning: Recall is ill-defined and being set to 0.0 in labels with no true samples. Use `zero_division` parameter to control this behavior.\n",
      "  _warn_prf(average, modifier, msg_start, len(result))\n"
     ]
    }
   ],
   "source": [
    "from sklearn.metrics import precision_score, recall_score, f1_score, accuracy_score\n",
    "\n",
    "# Calculate precision\n",
    "precision = precision_score(testing_data_y, y_pred, average='macro')\n",
    "\n",
    "# Calculate recall\n",
    "recall = recall_score(testing_data_y, y_pred, average='macro')\n",
    "\n",
    "# Calculate F1-score\n",
    "f1 = f1_score(testing_data_y, y_pred, average='macro')\n",
    "\n",
    "# Calculate accuracy\n",
    "accuracy = accuracy_score(testing_data_y, y_pred)\n",
    "\n",
    "# Print the metrics\n",
    "print(\"For KNN Model:\")\n",
    "print(\"Precision: \", precision)\n",
    "print(\"Recall: \", recall)\n",
    "print(\"F1-score: \", f1)\n",
    "print(\"Accuracy: \", accuracy)\n"
   ]
  },
  {
   "cell_type": "code",
   "execution_count": 68,
   "id": "039cc6f7",
   "metadata": {},
   "outputs": [
    {
     "name": "stdout",
     "output_type": "stream",
     "text": [
      "For Decision Tree Model:\n",
      "Precision:  0.4549918969747597\n",
      "Recall:  0.3735043984208532\n",
      "F1-score:  0.3939468614735153\n",
      "Accuracy:  0.9241\n"
     ]
    },
    {
     "name": "stderr",
     "output_type": "stream",
     "text": [
      "C:\\Users\\Arham\\anaconda3\\lib\\site-packages\\sklearn\\metrics\\_classification.py:1318: UndefinedMetricWarning: Precision is ill-defined and being set to 0.0 in labels with no predicted samples. Use `zero_division` parameter to control this behavior.\n",
      "  _warn_prf(average, modifier, msg_start, len(result))\n",
      "C:\\Users\\Arham\\anaconda3\\lib\\site-packages\\sklearn\\metrics\\_classification.py:1318: UndefinedMetricWarning: Recall is ill-defined and being set to 0.0 in labels with no true samples. Use `zero_division` parameter to control this behavior.\n",
      "  _warn_prf(average, modifier, msg_start, len(result))\n"
     ]
    }
   ],
   "source": [
    "from sklearn.tree import DecisionTreeClassifier\n",
    "from sklearn.metrics import precision_score, recall_score, f1_score, accuracy_score\n",
    "\n",
    "# Create an instance of the Decision Tree classifier\n",
    "dt = DecisionTreeClassifier()\n",
    "\n",
    "# Fit the Decision Tree model on the training data\n",
    "dt.fit(X_train_tfidf, training_data_y)\n",
    "\n",
    "# Make predictions on the test data\n",
    "y_pred = dt.predict(X_test_tfidf)\n",
    "\n",
    "# Calculate precision\n",
    "precision = precision_score(testing_data_y, y_pred, average='macro')\n",
    "\n",
    "# Calculate recall\n",
    "recall = recall_score(testing_data_y, y_pred, average='macro')\n",
    "\n",
    "# Calculate F1-score\n",
    "f1 = f1_score(testing_data_y, y_pred, average='macro')\n",
    "\n",
    "# Calculate accuracy\n",
    "accuracy = accuracy_score(testing_data_y, y_pred)\n",
    "\n",
    "# Print the metrics\n",
    "print(\"For Decision Tree Model:\")\n",
    "print(\"Precision: \", precision)\n",
    "print(\"Recall: \", recall)\n",
    "print(\"F1-score: \", f1)\n",
    "print(\"Accuracy: \", accuracy)"
   ]
  },
  {
   "cell_type": "code",
   "execution_count": 63,
   "id": "21e073f9",
   "metadata": {},
   "outputs": [
    {
     "data": {
      "text/plain": [
       "(10000,)"
      ]
     },
     "execution_count": 63,
     "metadata": {},
     "output_type": "execute_result"
    }
   ],
   "source": []
  },
  {
   "cell_type": "code",
   "execution_count": 70,
   "id": "6f62f556",
   "metadata": {},
   "outputs": [
    {
     "name": "stdout",
     "output_type": "stream",
     "text": [
      "For Random Forest Model:\n",
      "Precision:  0.5591438916838944\n",
      "Recall:  0.42004085900485016\n",
      "F1-score:  0.4447027658945936\n",
      "Accuracy:  0.9524\n"
     ]
    },
    {
     "name": "stderr",
     "output_type": "stream",
     "text": [
      "C:\\Users\\Arham\\anaconda3\\lib\\site-packages\\sklearn\\metrics\\_classification.py:1318: UndefinedMetricWarning: Precision is ill-defined and being set to 0.0 in labels with no predicted samples. Use `zero_division` parameter to control this behavior.\n",
      "  _warn_prf(average, modifier, msg_start, len(result))\n"
     ]
    }
   ],
   "source": [
    "from sklearn.ensemble import RandomForestClassifier\n",
    "from sklearn.metrics import precision_score, recall_score, f1_score, accuracy_score\n",
    "\n",
    "# Create an instance of the Random Forest classifier\n",
    "rf = RandomForestClassifier()\n",
    "\n",
    "# Fit the Random Forest model on the training data\n",
    "rf.fit(X_train_tfidf, training_data_y)\n",
    "\n",
    "# Make predictions on the test data\n",
    "y_pred = rf.predict(X_test_tfidf)\n",
    "\n",
    "# Calculate precision\n",
    "precision = precision_score(testing_data_y, y_pred, average='macro')\n",
    "\n",
    "# Calculate recall\n",
    "recall = recall_score(testing_data_y, y_pred, average='macro')\n",
    "\n",
    "# Calculate F1-score\n",
    "f1 = f1_score(testing_data_y, y_pred, average='macro')\n",
    "\n",
    "# Calculate accuracy\n",
    "accuracy = accuracy_score(testing_data_y, y_pred)\n",
    "\n",
    "# Print the metrics\n",
    "print(\"For Random Forest Model:\")\n",
    "print(\"Precision: \", precision)\n",
    "print(\"Recall: \", recall)\n",
    "print(\"F1-score: \", f1)\n",
    "print(\"Accuracy: \", accuracy)"
   ]
  },
  {
   "cell_type": "code",
   "execution_count": 71,
   "id": "c1b743d5",
   "metadata": {},
   "outputs": [
    {
     "name": "stdout",
     "output_type": "stream",
     "text": [
      "For Multinomial Naive Bayes Classifier Model:\n",
      "Precision:  0.31105397935666707\n",
      "Recall:  0.2449513111639507\n",
      "F1-score:  0.2583955770998612\n",
      "Accuracy:  0.9213\n"
     ]
    },
    {
     "name": "stderr",
     "output_type": "stream",
     "text": [
      "C:\\Users\\Arham\\anaconda3\\lib\\site-packages\\sklearn\\metrics\\_classification.py:1318: UndefinedMetricWarning: Precision is ill-defined and being set to 0.0 in labels with no predicted samples. Use `zero_division` parameter to control this behavior.\n",
      "  _warn_prf(average, modifier, msg_start, len(result))\n"
     ]
    }
   ],
   "source": [
    "from sklearn.naive_bayes import MultinomialNB\n",
    "from sklearn.metrics import precision_score, recall_score, f1_score, accuracy_score\n",
    "\n",
    "# Create an instance of the Multinomial Naive Bayes classifier\n",
    "nb = MultinomialNB()\n",
    "\n",
    "# Fit the Multinomial Naive Bayes model on the training data\n",
    "nb.fit(X_train_tfidf, training_data_y)\n",
    "\n",
    "# Make predictions on the test data\n",
    "y_pred = nb.predict(X_test_tfidf)\n",
    "\n",
    "# Calculate precision\n",
    "precision = precision_score(testing_data_y, y_pred, average='macro')\n",
    "\n",
    "# Calculate recall\n",
    "recall = recall_score(testing_data_y, y_pred, average='macro')\n",
    "\n",
    "# Calculate F1-score\n",
    "f1 = f1_score(testing_data_y, y_pred, average='macro')\n",
    "\n",
    "# Calculate accuracy\n",
    "accuracy = accuracy_score(testing_data_y, y_pred)\n",
    "\n",
    "# Print the metrics\n",
    "print(\"For Multinomial Naive Bayes Classifier Model:\")\n",
    "print(\"Precision: \", precision)\n",
    "print(\"Recall: \", recall)\n",
    "print(\"F1-score: \", f1)\n",
    "print(\"Accuracy: \", accuracy)\n"
   ]
  },
  {
   "cell_type": "code",
   "execution_count": 78,
   "id": "75fd8d9c",
   "metadata": {},
   "outputs": [],
   "source": [
    "from sklearn.feature_extraction.text import TfidfVectorizer\n",
    "from sklearn.cluster import KMeans\n",
    "from sklearn.metrics import silhouette_score\n",
    "import matplotlib.pyplot as plt\n",
    "\n",
    "df = df.fillna('')\n",
    "\n",
    "tfidf_matrix = tfidf.fit_transform(df['Text'])"
   ]
  },
  {
   "cell_type": "code",
   "execution_count": 79,
   "id": "6a9267e2",
   "metadata": {},
   "outputs": [
    {
     "data": {
      "image/png": "[encoded data removed]",
      "text/plain": [
       "<Figure size 432x288 with 1 Axes>"
      ]
     },
     "metadata": {
      "needs_background": "light"
     },
     "output_type": "display_data"
    }
   ],
   "source": [
    "# Initialize an empty list to store the inertia values\n",
    "inertia_values = []\n",
    "\n",
    "# Try different values of k (number of clusters)\n",
    "k_values = range(2, 11)  # Assuming you want to try values from 2 to 10\n",
    "\n",
    "for k in k_values:\n",
    "    # Create an instance of the KMeans clustering algorithm\n",
    "    kmeans = KMeans(n_clusters=k, random_state=42)\n",
    "    \n",
    "    # Fit the KMeans model to the TF-IDF matrix\n",
    "    kmeans.fit(tfidf_matrix)\n",
    "    \n",
    "    # Append the inertia value to the list\n",
    "    inertia_values.append(kmeans.inertia_)\n",
    "\n",
    "# Plot the inertia values to visualize the elbow\n",
    "plt.plot(k_values, inertia_values, marker='o')\n",
    "plt.xlabel('Number of Clusters (k)')\n",
    "plt.ylabel('Inertia')\n",
    "plt.title('Elbow Method')\n",
    "plt.show()\n"
   ]
  },
  {
   "cell_type": "code",
   "execution_count": 76,
   "id": "23221008",
   "metadata": {},
   "outputs": [
    {
     "data": {
      "image/png": "[encoded data removed]",
      "text/plain": [
       "<Figure size 432x288 with 1 Axes>"
      ]
     },
     "metadata": {
      "needs_background": "light"
     },
     "output_type": "display_data"
    }
   ],
   "source": [
    "silhouette_scores = []\n",
    "\n",
    "for k in k_values:\n",
    "    kmeans = KMeans(n_clusters=k, random_state=42)\n",
    "    kmeans.fit(tfidf_matrix)\n",
    "    labels = kmeans.labels_\n",
    "    score = silhouette_score(tfidf_matrix, labels)\n",
    "    silhouette_scores.append(score)\n",
    "\n",
    "# Plot the silhouette scores\n",
    "plt.plot(k_values, silhouette_scores, marker='o')\n",
    "plt.xlabel('Number of Clusters (k)')\n",
    "plt.ylabel('Silhouette Score')\n",
    "plt.title('Silhouette Score for Different Values of k')\n",
    "plt.show()\n"
   ]
  },
  {
   "cell_type": "code",
   "execution_count": null,
   "id": "8c48c9bd",
   "metadata": {},
   "outputs": [],
   "source": []
  }
 ],
 "metadata": {
  "kernelspec": {
   "display_name": "Python 3 (ipykernel)",
   "language": "python",
   "name": "python3"
  },
  "language_info": {
   "codemirror_mode": {
    "name": "ipython",
    "version": 3
   },
   "file_extension": ".py",
   "mimetype": "text/x-python",
   "name": "python",
   "nbconvert_exporter": "python",
   "pygments_lexer": "ipython3",
   "version": "3.9.12"
  }
 },
 "nbformat": 4,
 "nbformat_minor": 5
}
